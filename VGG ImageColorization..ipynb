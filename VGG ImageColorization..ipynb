{
 "cells": [
  {
   "cell_type": "code",
   "execution_count": 1,
   "metadata": {},
   "outputs": [
    {
     "name": "stderr",
     "output_type": "stream",
     "text": [
      "Using TensorFlow backend.\n"
     ]
    }
   ],
   "source": [
    "from keras.applications.vgg16 import VGG16"
   ]
  },
  {
   "cell_type": "code",
   "execution_count": 2,
   "metadata": {},
   "outputs": [],
   "source": [
    "from keras.layers import Conv2D,UpSampling2D,Dense\n",
    "from keras.models import Sequential,Model\n",
    "from keras.preprocessing.image import ImageDataGenerator,img_to_array,load_img\n",
    "from skimage.color import rgb2lab,lab2rgb,gray2rgb\n",
    "from skimage.transform import resize\n",
    "from skimage.io import imsave"
   ]
  },
  {
   "cell_type": "code",
   "execution_count": 3,
   "metadata": {},
   "outputs": [],
   "source": [
    "import tensorflow\n",
    "import numpy\n",
    "import keras\n",
    "import os"
   ]
  },
  {
   "cell_type": "code",
   "execution_count": 4,
   "metadata": {},
   "outputs": [],
   "source": [
    "VGGmodel=VGG16()\n",
    "model=Sequential()\n",
    "\n",
    "for index,layer in enumerate(VGGmodel.layers):\n",
    "    if(index>=19):\n",
    "        break\n",
    "    \n",
    "    model.add(layer)"
   ]
  },
  {
   "cell_type": "code",
   "execution_count": 5,
   "metadata": {},
   "outputs": [],
   "source": [
    "for layer in model.layers:\n",
    "    layer.trainable=False"
   ]
  },
  {
   "cell_type": "code",
   "execution_count": 7,
   "metadata": {},
   "outputs": [
    {
     "name": "stdout",
     "output_type": "stream",
     "text": [
      "Found 5 images belonging to 1 classes.\n"
     ]
    }
   ],
   "source": [
    "path='Downloads/face_train/'\n",
    "train_datagen = ImageDataGenerator(rescale=1./255)\n",
    "train = train_datagen.flow_from_directory(path, target_size=(224,224),batch_size=32,class_mode=None)"
   ]
  },
  {
   "cell_type": "code",
   "execution_count": 10,
   "metadata": {},
   "outputs": [
    {
     "data": {
      "text/plain": [
       "224"
      ]
     },
     "execution_count": 10,
     "metadata": {},
     "output_type": "execute_result"
    }
   ],
   "source": []
  },
  {
   "cell_type": "code",
   "execution_count": 11,
   "metadata": {},
   "outputs": [
    {
     "name": "stdout",
     "output_type": "stream",
     "text": [
      "(5, 224, 224, 1) (5, 224, 224, 2)\n"
     ]
    }
   ],
   "source": [
    "x=[]\n",
    "y=[]\n",
    "\n",
    "for it in range(1):\n",
    "    for image in train[it]:\n",
    "        try:\n",
    "            lab = rgb2lab(image)\n",
    "            x.append(lab[:,:,0])\n",
    "            y.append(lab[:,:,1:] /128)\n",
    "        \n",
    "        except:\n",
    "            print('error')\n",
    "    \n",
    "x=numpy.array(x)\n",
    "y=numpy.array(y)\n",
    "\n",
    "x=x.reshape(x.shape + (1,))\n",
    "print(x.shape,y.shape)\n",
    "\n"
   ]
  },
  {
   "cell_type": "code",
   "execution_count": 12,
   "metadata": {},
   "outputs": [
    {
     "name": "stdout",
     "output_type": "stream",
     "text": [
      "(5, 7, 7, 512)\n"
     ]
    }
   ],
   "source": [
    "vggfeatures=[]\n",
    "\n",
    "for i,sample in enumerate(x):\n",
    "    sample = gray2rgb(sample)\n",
    "    sample = sample.reshape((1,224,224,3))\n",
    "    \n",
    "    prediction = model.predict(sample)\n",
    "    prediction = prediction.reshape((7,7,512))\n",
    "    vggfeatures.append(prediction)\n",
    "    \n",
    "vggfeatures=numpy.array(vggfeatures)\n",
    "print(vggfeatures.shape)"
   ]
  },
  {
   "cell_type": "code",
   "execution_count": 13,
   "metadata": {},
   "outputs": [
    {
     "name": "stdout",
     "output_type": "stream",
     "text": [
      "Model: \"sequential_2\"\n",
      "_________________________________________________________________\n",
      "Layer (type)                 Output Shape              Param #   \n",
      "=================================================================\n",
      "conv2d_1 (Conv2D)            (None, 7, 7, 256)         1179904   \n",
      "_________________________________________________________________\n",
      "conv2d_2 (Conv2D)            (None, 7, 7, 128)         295040    \n",
      "_________________________________________________________________\n",
      "up_sampling2d_1 (UpSampling2 (None, 14, 14, 128)       0         \n",
      "_________________________________________________________________\n",
      "conv2d_3 (Conv2D)            (None, 14, 14, 64)        73792     \n",
      "_________________________________________________________________\n",
      "up_sampling2d_2 (UpSampling2 (None, 28, 28, 64)        0         \n",
      "_________________________________________________________________\n",
      "conv2d_4 (Conv2D)            (None, 28, 28, 32)        18464     \n",
      "_________________________________________________________________\n",
      "up_sampling2d_3 (UpSampling2 (None, 56, 56, 32)        0         \n",
      "_________________________________________________________________\n",
      "conv2d_5 (Conv2D)            (None, 56, 56, 16)        4624      \n",
      "_________________________________________________________________\n",
      "up_sampling2d_4 (UpSampling2 (None, 112, 112, 16)      0         \n",
      "_________________________________________________________________\n",
      "conv2d_6 (Conv2D)            (None, 112, 112, 2)       290       \n",
      "_________________________________________________________________\n",
      "up_sampling2d_5 (UpSampling2 (None, 224, 224, 2)       0         \n",
      "=================================================================\n",
      "Total params: 1,572,114\n",
      "Trainable params: 1,572,114\n",
      "Non-trainable params: 0\n",
      "_________________________________________________________________\n"
     ]
    }
   ],
   "source": [
    "decoder = Sequential()\n",
    "\n",
    "decoder.add(Conv2D(256, (3,3) , activation = 'relu' , padding = 'same', input_shape = (7,7,512)))\n",
    "decoder.add(Conv2D(128, (3,3) , activation = 'relu' , padding = 'same'))\n",
    "decoder.add(UpSampling2D((2,2)))\n",
    "\n",
    "decoder.add(Conv2D(64, (3,3) , activation = 'relu' , padding = 'same'))\n",
    "decoder.add(UpSampling2D((2,2)))\n",
    "\n",
    "decoder.add(Conv2D(32, (3,3) , activation = 'relu' , padding = 'same'))\n",
    "decoder.add(UpSampling2D((2,2)))\n",
    "\n",
    "decoder.add(Conv2D(16, (3,3) , activation = 'relu' , padding = 'same'))\n",
    "decoder.add(UpSampling2D((2,2)))\n",
    "\n",
    "decoder.add(Conv2D(2, (3,3) , activation = 'tanh' , padding = 'same'))\n",
    "decoder.add(UpSampling2D((2,2)))\n",
    "\n",
    "decoder.summary()"
   ]
  },
  {
   "cell_type": "code",
   "execution_count": 19,
   "metadata": {},
   "outputs": [
    {
     "name": "stdout",
     "output_type": "stream",
     "text": [
      "Epoch 1/50\n",
      "5/5 [==============================] - 0s 66ms/step - loss: 4.4361e-04 - accuracy: 0.7945\n",
      "Epoch 2/50\n",
      "5/5 [==============================] - 0s 41ms/step - loss: 4.7480e-04 - accuracy: 0.7926\n",
      "Epoch 3/50\n",
      "5/5 [==============================] - 0s 37ms/step - loss: 5.8344e-04 - accuracy: 0.7875\n",
      "Epoch 4/50\n",
      "5/5 [==============================] - 0s 39ms/step - loss: 4.8893e-04 - accuracy: 0.7775\n",
      "Epoch 5/50\n",
      "5/5 [==============================] - 0s 38ms/step - loss: 5.2619e-04 - accuracy: 0.7799\n",
      "Epoch 6/50\n",
      "5/5 [==============================] - 0s 37ms/step - loss: 4.8584e-04 - accuracy: 0.7916\n",
      "Epoch 7/50\n",
      "5/5 [==============================] - 0s 43ms/step - loss: 4.7877e-04 - accuracy: 0.7999\n",
      "Epoch 8/50\n",
      "5/5 [==============================] - 0s 49ms/step - loss: 4.8571e-04 - accuracy: 0.7970\n",
      "Epoch 9/50\n",
      "5/5 [==============================] - 0s 45ms/step - loss: 4.7761e-04 - accuracy: 0.7912\n",
      "Epoch 10/50\n",
      "5/5 [==============================] - 0s 48ms/step - loss: 4.6857e-04 - accuracy: 0.7874\n",
      "Epoch 11/50\n",
      "5/5 [==============================] - 0s 45ms/step - loss: 4.6483e-04 - accuracy: 0.7865\n",
      "Epoch 12/50\n",
      "5/5 [==============================] - 0s 48ms/step - loss: 4.6275e-04 - accuracy: 0.7879\n",
      "Epoch 13/50\n",
      "5/5 [==============================] - 0s 45ms/step - loss: 4.6363e-04 - accuracy: 0.7908\n",
      "Epoch 14/50\n",
      "5/5 [==============================] - 0s 48ms/step - loss: 4.6083e-04 - accuracy: 0.7930\n",
      "Epoch 15/50\n",
      "5/5 [==============================] - 0s 49ms/step - loss: 4.5239e-04 - accuracy: 0.7937\n",
      "Epoch 16/50\n",
      "5/5 [==============================] - 0s 50ms/step - loss: 4.5044e-04 - accuracy: 0.7937\n",
      "Epoch 17/50\n",
      "5/5 [==============================] - 0s 46ms/step - loss: 4.5394e-04 - accuracy: 0.7943\n",
      "Epoch 18/50\n",
      "5/5 [==============================] - 0s 52ms/step - loss: 4.5255e-04 - accuracy: 0.7951\n",
      "Epoch 19/50\n",
      "5/5 [==============================] - 0s 52ms/step - loss: 4.4727e-04 - accuracy: 0.7966\n",
      "Epoch 20/50\n",
      "5/5 [==============================] - 0s 50ms/step - loss: 4.4558e-04 - accuracy: 0.7971\n",
      "Epoch 21/50\n",
      "5/5 [==============================] - 0s 45ms/step - loss: 4.4582e-04 - accuracy: 0.7972\n",
      "Epoch 22/50\n",
      "5/5 [==============================] - 0s 50ms/step - loss: 4.4348e-04 - accuracy: 0.7961\n",
      "Epoch 23/50\n",
      "5/5 [==============================] - 0s 45ms/step - loss: 4.4205e-04 - accuracy: 0.7939\n",
      "Epoch 24/50\n",
      "5/5 [==============================] - 0s 45ms/step - loss: 4.4249e-04 - accuracy: 0.7925\n",
      "Epoch 25/50\n",
      "5/5 [==============================] - 0s 45ms/step - loss: 4.4085e-04 - accuracy: 0.7921\n",
      "Epoch 26/50\n",
      "5/5 [==============================] - 0s 48ms/step - loss: 4.3797e-04 - accuracy: 0.7941\n",
      "Epoch 27/50\n",
      "5/5 [==============================] - 0s 45ms/step - loss: 4.3750e-04 - accuracy: 0.7956\n",
      "Epoch 28/50\n",
      "5/5 [==============================] - 0s 49ms/step - loss: 4.3801e-04 - accuracy: 0.7960\n",
      "Epoch 29/50\n",
      "5/5 [==============================] - 0s 47ms/step - loss: 4.3634e-04 - accuracy: 0.7968\n",
      "Epoch 30/50\n",
      "5/5 [==============================] - 0s 48ms/step - loss: 4.3443e-04 - accuracy: 0.7961\n",
      "Epoch 31/50\n",
      "5/5 [==============================] - 0s 50ms/step - loss: 4.3418e-04 - accuracy: 0.7953\n",
      "Epoch 32/50\n",
      "5/5 [==============================] - 0s 50ms/step - loss: 4.3388e-04 - accuracy: 0.7943\n",
      "Epoch 33/50\n",
      "5/5 [==============================] - 0s 45ms/step - loss: 4.3259e-04 - accuracy: 0.7944\n",
      "Epoch 34/50\n",
      "5/5 [==============================] - 0s 51ms/step - loss: 4.3139e-04 - accuracy: 0.7955\n",
      "Epoch 35/50\n",
      "5/5 [==============================] - 0s 43ms/step - loss: 4.3089e-04 - accuracy: 0.7962\n",
      "Epoch 36/50\n",
      "5/5 [==============================] - 0s 50ms/step - loss: 4.3048e-04 - accuracy: 0.7965\n",
      "Epoch 37/50\n",
      "5/5 [==============================] - 0s 46ms/step - loss: 4.2943e-04 - accuracy: 0.7969\n",
      "Epoch 38/50\n",
      "5/5 [==============================] - 0s 45ms/step - loss: 4.2840e-04 - accuracy: 0.7966\n",
      "Epoch 39/50\n",
      "5/5 [==============================] - 0s 49ms/step - loss: 4.2805e-04 - accuracy: 0.7960\n",
      "Epoch 40/50\n",
      "5/5 [==============================] - 0s 49ms/step - loss: 4.2735e-04 - accuracy: 0.7960\n",
      "Epoch 41/50\n",
      "5/5 [==============================] - 0s 48ms/step - loss: 4.2638e-04 - accuracy: 0.7961\n",
      "Epoch 42/50\n",
      "5/5 [==============================] - 0s 47ms/step - loss: 4.2594e-04 - accuracy: 0.7964\n",
      "Epoch 43/50\n",
      "5/5 [==============================] - 0s 47ms/step - loss: 4.2528e-04 - accuracy: 0.7961\n",
      "Epoch 44/50\n",
      "5/5 [==============================] - 0s 51ms/step - loss: 4.2443e-04 - accuracy: 0.7962\n",
      "Epoch 45/50\n",
      "5/5 [==============================] - 0s 49ms/step - loss: 4.2396e-04 - accuracy: 0.7962\n",
      "Epoch 46/50\n",
      "5/5 [==============================] - 0s 46ms/step - loss: 4.2334e-04 - accuracy: 0.7962\n",
      "Epoch 47/50\n",
      "5/5 [==============================] - 0s 46ms/step - loss: 4.2254e-04 - accuracy: 0.7967\n",
      "Epoch 48/50\n",
      "5/5 [==============================] - 0s 50ms/step - loss: 4.2202e-04 - accuracy: 0.7967\n",
      "Epoch 49/50\n",
      "5/5 [==============================] - 0s 45ms/step - loss: 4.2144e-04 - accuracy: 0.7966\n",
      "Epoch 50/50\n",
      "5/5 [==============================] - 0s 48ms/step - loss: 4.2082e-04 - accuracy: 0.7966\n"
     ]
    },
    {
     "data": {
      "text/plain": [
       "<keras.callbacks.callbacks.History at 0x26d07eec7c8>"
      ]
     },
     "execution_count": 19,
     "metadata": {},
     "output_type": "execute_result"
    }
   ],
   "source": [
    "decoder.compile(optimizer=keras.optimizers.Adam(learning_rate=0.00005),loss='mse',metrics=['accuracy'])\n",
    "decoder.fit(vggfeatures,y,verbose=1,epochs=50,batch_size=12)"
   ]
  },
  {
   "cell_type": "code",
   "execution_count": 20,
   "metadata": {},
   "outputs": [],
   "source": [
    "decoder.save('colorize.model')"
   ]
  },
  {
   "cell_type": "code",
   "execution_count": 29,
   "metadata": {},
   "outputs": [],
   "source": [
    "load_model=keras.models.load_model('colorize.model',custom_objects=None,compile=True)\n",
    "test_path='Downloads/original/'\n",
    "files=os.listdir(test_path)"
   ]
  },
  {
   "cell_type": "code",
   "execution_count": 30,
   "metadata": {},
   "outputs": [
    {
     "name": "stderr",
     "output_type": "stream",
     "text": [
      "Lossy conversion from float64 to uint8. Range [0, 1]. Convert image to uint8 prior to saving to suppress this warning.\n"
     ]
    }
   ],
   "source": [
    "for id,file in enumerate(files):\n",
    "    test = img_to_array(load_img(test_path+file))\n",
    "    test =resize(test,(224,224),anti_aliasing=True)\n",
    "    test*=1.0/255\n",
    "    \n",
    "    lab=rgb2lab(test)\n",
    "    a=lab[:,:,0]\n",
    "    b=gray2rgb(a)\n",
    "    b=b.reshape((1,224,224,3))\n",
    "    \n",
    "    vggpred=model.predict(b)\n",
    "    result=load_model.predict(vggpred)\n",
    "    \n",
    "    result=result*128\n",
    "    cur=numpy.zeros((224,224,3))\n",
    "    cur[:,:,0]=a\n",
    "    cur[:,:,1:]=result\n",
    "    \n",
    "    imsave(str(id)+\".jpg\",lab2rgb(cur))\n",
    "    "
   ]
  }
 ],
 "metadata": {
  "kernelspec": {
   "display_name": "Python 3",
   "language": "python",
   "name": "python3"
  },
  "language_info": {
   "codemirror_mode": {
    "name": "ipython",
    "version": 3
   },
   "file_extension": ".py",
   "mimetype": "text/x-python",
   "name": "python",
   "nbconvert_exporter": "python",
   "pygments_lexer": "ipython3",
   "version": "3.7.6"
  }
 },
 "nbformat": 4,
 "nbformat_minor": 4
}
